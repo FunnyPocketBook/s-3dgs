{
 "cells": [
  {
   "cell_type": "code",
   "execution_count": 7,
   "metadata": {},
   "outputs": [],
   "source": [
    "import cv2\n",
    "import os\n",
    "import numpy as np\n",
    "from glob import glob\n",
    "import matplotlib.pyplot as plt\n",
    "import json"
   ]
  },
  {
   "cell_type": "code",
   "execution_count": 39,
   "metadata": {},
   "outputs": [],
   "source": [
    "image_directory  = \"/workspace/data/aviodrome/plane/small_input/mask/raw\"\n",
    "combine_directory  = \"/workspace/data/aviodrome/plane/small_input/mask/out\""
   ]
  },
  {
   "cell_type": "code",
   "execution_count": 31,
   "metadata": {},
   "outputs": [],
   "source": [
    "with open(f\"{image_directory}/annotations.json\",encoding=\"utf-8\") as f:\n",
    "    annotations = json.load(f)"
   ]
  },
  {
   "cell_type": "code",
   "execution_count": 45,
   "metadata": {},
   "outputs": [
    {
     "name": "stdout",
     "output_type": "stream",
     "text": [
      "Copied task-2-annotation-2-by-2-tag-Airplane-0.png to /workspace/data/aviodrome/plane/small_input/mask/renamed/frame_00019.png\n",
      "Copied task-45-annotation-45-by-2-tag-Airplane-0.png to /workspace/data/aviodrome/plane/small_input/mask/renamed/frame_00277.png\n",
      "Copied task-29-annotation-29-by-2-tag-Airplane-0.png to /workspace/data/aviodrome/plane/small_input/mask/renamed/frame_00181.png\n",
      "Copied task-8-annotation-8-by-2-tag-Airplane-0.png to /workspace/data/aviodrome/plane/small_input/mask/renamed/frame_00055.png\n",
      "Copied task-26-annotation-26-by-2-tag-Airplane-0.png to /workspace/data/aviodrome/plane/small_input/mask/renamed/frame_00163.png\n",
      "Copied task-4-annotation-4-by-2-tag-Airplane-0.png to /workspace/data/aviodrome/plane/small_input/mask/renamed/frame_00031.png\n",
      "Copied task-34-annotation-34-by-2-tag-Airplane-0.png to /workspace/data/aviodrome/plane/small_input/mask/renamed/frame_00211.png\n",
      "Copied task-35-annotation-35-by-2-tag-Airplane-0.png to /workspace/data/aviodrome/plane/small_input/mask/renamed/frame_00217.png\n",
      "Copied task-7-annotation-7-by-2-tag-Airplane-0.png to /workspace/data/aviodrome/plane/small_input/mask/renamed/frame_00049.png\n",
      "Copied task-3-annotation-3-by-2-tag-Airplane-0.png to /workspace/data/aviodrome/plane/small_input/mask/renamed/frame_00025.png\n",
      "Copied task-11-annotation-11-by-2-tag-Airplane-0.png to /workspace/data/aviodrome/plane/small_input/mask/renamed/frame_00073.png\n",
      "Copied task-30-annotation-30-by-2-tag-Airplane-0.png to /workspace/data/aviodrome/plane/small_input/mask/renamed/frame_00187.png\n",
      "Copied task-28-annotation-28-by-2-tag-Airplane-0.png to /workspace/data/aviodrome/plane/small_input/mask/renamed/frame_00175.png\n",
      "Copied task-6-annotation-6-by-2-tag-Airplane-0.png to /workspace/data/aviodrome/plane/small_input/mask/renamed/frame_00043.png\n",
      "Copied task-27-annotation-27-by-2-tag-Airplane-0.png to /workspace/data/aviodrome/plane/small_input/mask/renamed/frame_00169.png\n",
      "Copied task-24-annotation-24-by-2-tag-Airplane-0.png to /workspace/data/aviodrome/plane/small_input/mask/renamed/frame_00151.png\n",
      "Copied task-20-annotation-20-by-2-tag-Airplane-0.png to /workspace/data/aviodrome/plane/small_input/mask/renamed/frame_00127.png\n",
      "Copied task-43-annotation-43-by-2-tag-Airplane-0.png to /workspace/data/aviodrome/plane/small_input/mask/renamed/frame_00265.png\n",
      "Copied task-16-annotation-16-by-2-tag-Airplane-0.png to /workspace/data/aviodrome/plane/small_input/mask/renamed/frame_00103.png\n",
      "Copied task-49-annotation-49-by-2-tag-Airplane-0.png to /workspace/data/aviodrome/plane/small_input/mask/renamed/frame_00301.png\n",
      "Copied task-13-annotation-13-by-2-tag-Airplane-0.png to /workspace/data/aviodrome/plane/small_input/mask/renamed/frame_00085.png\n",
      "Copied task-39-annotation-39-by-2-tag-Airplane-0.png to /workspace/data/aviodrome/plane/small_input/mask/renamed/frame_00241.png\n",
      "Copied task-36-annotation-36-by-2-tag-Airplane-0.png to /workspace/data/aviodrome/plane/small_input/mask/renamed/frame_00223.png\n",
      "Copied task-18-annotation-18-by-2-tag-Airplane-0.png to /workspace/data/aviodrome/plane/small_input/mask/renamed/frame_00115.png\n",
      "Copied task-17-annotation-17-by-2-tag-Airplane-0.png to /workspace/data/aviodrome/plane/small_input/mask/renamed/frame_00109.png\n",
      "Copied task-37-annotation-37-by-2-tag-Airplane-0.png to /workspace/data/aviodrome/plane/small_input/mask/renamed/frame_00229.png\n",
      "Copied task-40-annotation-40-by-2-tag-Airplane-0.png to /workspace/data/aviodrome/plane/small_input/mask/renamed/frame_00247.png\n",
      "Copied task-12-annotation-12-by-2-tag-Airplane-0.png to /workspace/data/aviodrome/plane/small_input/mask/renamed/frame_00079.png\n",
      "Copied task-5-annotation-5-by-2-tag-Airplane-0.png to /workspace/data/aviodrome/plane/small_input/mask/renamed/frame_00037.png\n",
      "Copied task-51-annotation-51-by-2-tag-Airplane-0.png to /workspace/data/aviodrome/plane/small_input/mask/renamed/frame_00001.png\n",
      "Copied task-33-annotation-33-by-2-tag-Airplane-0.png to /workspace/data/aviodrome/plane/small_input/mask/renamed/frame_00205.png\n",
      "Copied task-25-annotation-25-by-2-tag-Airplane-0.png to /workspace/data/aviodrome/plane/small_input/mask/renamed/frame_00157.png\n",
      "Copied task-9-annotation-9-by-2-tag-Airplane-0.png to /workspace/data/aviodrome/plane/small_input/mask/renamed/frame_00061.png\n",
      "Copied task-15-annotation-15-by-2-tag-Airplane-0.png to /workspace/data/aviodrome/plane/small_input/mask/renamed/frame_00097.png\n",
      "Copied task-14-annotation-14-by-2-tag-Airplane-0.png to /workspace/data/aviodrome/plane/small_input/mask/renamed/frame_00091.png\n",
      "Copied task-52-annotation-52-by-2-tag-Airplane-0.png to /workspace/data/aviodrome/plane/small_input/mask/renamed/frame_00007.png\n",
      "Copied task-23-annotation-23-by-2-tag-Airplane-0.png to /workspace/data/aviodrome/plane/small_input/mask/renamed/frame_00145.png\n",
      "Copied task-10-annotation-10-by-2-tag-Airplane-0.png to /workspace/data/aviodrome/plane/small_input/mask/renamed/frame_00067.png\n",
      "Copied task-42-annotation-42-by-2-tag-Airplane-0.png to /workspace/data/aviodrome/plane/small_input/mask/renamed/frame_00259.png\n",
      "Copied task-32-annotation-32-by-2-tag-Airplane-0.png to /workspace/data/aviodrome/plane/small_input/mask/renamed/frame_00199.png\n",
      "Copied task-19-annotation-19-by-2-tag-Airplane-0.png to /workspace/data/aviodrome/plane/small_input/mask/renamed/frame_00121.png\n",
      "Copied task-22-annotation-22-by-2-tag-Airplane-0.png to /workspace/data/aviodrome/plane/small_input/mask/renamed/frame_00139.png\n",
      "Copied task-38-annotation-38-by-2-tag-Airplane-0.png to /workspace/data/aviodrome/plane/small_input/mask/renamed/frame_00235.png\n",
      "Copied task-44-annotation-44-by-2-tag-Airplane-0.png to /workspace/data/aviodrome/plane/small_input/mask/renamed/frame_00271.png\n",
      "Copied task-47-annotation-47-by-2-tag-Airplane-0.png to /workspace/data/aviodrome/plane/small_input/mask/renamed/frame_00289.png\n",
      "Copied task-41-annotation-41-by-2-tag-Airplane-0.png to /workspace/data/aviodrome/plane/small_input/mask/renamed/frame_00253.png\n",
      "Copied task-1-annotation-1-by-2-tag-Airplane-0.png to /workspace/data/aviodrome/plane/small_input/mask/renamed/frame_00013.png\n",
      "Copied task-46-annotation-46-by-2-tag-Airplane-0.png to /workspace/data/aviodrome/plane/small_input/mask/renamed/frame_00283.png\n",
      "Copied task-50-annotation-50-by-2-tag-Airplane-0.png to /workspace/data/aviodrome/plane/small_input/mask/renamed/frame_00307.png\n",
      "Copied task-31-annotation-31-by-2-tag-Airplane-0.png to /workspace/data/aviodrome/plane/small_input/mask/renamed/frame_00193.png\n",
      "Copied task-48-annotation-48-by-2-tag-Airplane-0.png to /workspace/data/aviodrome/plane/small_input/mask/renamed/frame_00295.png\n",
      "Copied task-21-annotation-21-by-2-tag-Airplane-0.png to /workspace/data/aviodrome/plane/small_input/mask/renamed/frame_00133.png\n"
     ]
    }
   ],
   "source": [
    "import json\n",
    "import os\n",
    "import shutil\n",
    "\n",
    "# Define your paths\n",
    "input_dir = '/workspace/data/aviodrome/plane/small_input/images'\n",
    "masks_dir = '/workspace/data/aviodrome/plane/small_input/mask/out'\n",
    "output_dir = '/workspace/data/aviodrome/plane/small_input/mask/renamed'\n",
    "json_file_path = '/workspace/data/aviodrome/plane/small_input/annotations.json'\n",
    "\n",
    "# Load the JSON data\n",
    "with open(json_file_path, 'r') as json_file:\n",
    "    data = json.load(json_file)\n",
    "\n",
    "# Create the output directory if it doesn't exist\n",
    "os.makedirs(output_dir, exist_ok=True)\n",
    "\n",
    "# Loop through each item in the JSON data\n",
    "for item in data:\n",
    "    # Extract the relevant fields from the JSON\n",
    "    image_path = item['image']\n",
    "    # Extract the actual filename, removing any prefix and keeping only 'frame_xxxx.png'\n",
    "    image_filename = os.path.basename(image_path).split('-')[-1]  # This should give us 'frame_xxxx.png'\n",
    "    mask_id = item['id']\n",
    "\n",
    "    # Find the corresponding mask file\n",
    "    mask_files = [f for f in os.listdir(masks_dir) if f.startswith(f'task-{mask_id}-annotation')]\n",
    "\n",
    "    # Copy each mask to the output directory with the new filename\n",
    "    for mask_file in mask_files:\n",
    "        source_mask_path = os.path.join(masks_dir, mask_file)\n",
    "        destination_mask_path = os.path.join(output_dir, image_filename)  # Final name: frame_xxxx.png\n",
    "        shutil.copy2(source_mask_path, destination_mask_path)\n",
    "\n",
    "        print(f'Copied {mask_file} to {destination_mask_path}')\n"
   ]
  },
  {
   "cell_type": "code",
   "execution_count": 30,
   "metadata": {},
   "outputs": [
    {
     "data": {
      "text/plain": [
       "2"
      ]
     },
     "execution_count": 30,
     "metadata": {},
     "output_type": "execute_result"
    }
   ],
   "source": [
    "annotations[0][\"inner_id\"]"
   ]
  },
  {
   "cell_type": "code",
   "execution_count": 43,
   "metadata": {},
   "outputs": [
    {
     "name": "stdout",
     "output_type": "stream",
     "text": [
      "Processed mask saved as /workspace/data/aviodrome/plane/small_input/mask/out/task-1-annotation-1-by-2-tag-Airplane-0.png\n",
      "Processed mask saved as /workspace/data/aviodrome/plane/small_input/mask/out/task-2-annotation-2-by-2-tag-Airplane-0.png\n",
      "Processed mask saved as /workspace/data/aviodrome/plane/small_input/mask/out/task-3-annotation-3-by-2-tag-Airplane-0.png\n",
      "Processed mask saved as /workspace/data/aviodrome/plane/small_input/mask/out/task-4-annotation-4-by-2-tag-Airplane-0.png\n",
      "Processed mask saved as /workspace/data/aviodrome/plane/small_input/mask/out/task-5-annotation-5-by-2-tag-Airplane-0.png\n",
      "Processed mask saved as /workspace/data/aviodrome/plane/small_input/mask/out/task-6-annotation-6-by-2-tag-Airplane-0.png\n",
      "Processed mask saved as /workspace/data/aviodrome/plane/small_input/mask/out/task-7-annotation-7-by-2-tag-Airplane-0.png\n",
      "Processed mask saved as /workspace/data/aviodrome/plane/small_input/mask/out/task-8-annotation-8-by-2-tag-Airplane-0.png\n",
      "Processed mask saved as /workspace/data/aviodrome/plane/small_input/mask/out/task-9-annotation-9-by-2-tag-Airplane-0.png\n",
      "Processed mask saved as /workspace/data/aviodrome/plane/small_input/mask/out/task-10-annotation-10-by-2-tag-Airplane-0.png\n",
      "Processed mask saved as /workspace/data/aviodrome/plane/small_input/mask/out/task-11-annotation-11-by-2-tag-Airplane-0.png\n",
      "Processed mask saved as /workspace/data/aviodrome/plane/small_input/mask/out/task-12-annotation-12-by-2-tag-Airplane-0.png\n",
      "Processed mask saved as /workspace/data/aviodrome/plane/small_input/mask/out/task-13-annotation-13-by-2-tag-Airplane-0.png\n",
      "Processed mask saved as /workspace/data/aviodrome/plane/small_input/mask/out/task-14-annotation-14-by-2-tag-Airplane-0.png\n",
      "Processed mask saved as /workspace/data/aviodrome/plane/small_input/mask/out/task-15-annotation-15-by-2-tag-Airplane-0.png\n",
      "Processed mask saved as /workspace/data/aviodrome/plane/small_input/mask/out/task-16-annotation-16-by-2-tag-Airplane-0.png\n",
      "Processed mask saved as /workspace/data/aviodrome/plane/small_input/mask/out/task-17-annotation-17-by-2-tag-Airplane-0.png\n",
      "Processed mask saved as /workspace/data/aviodrome/plane/small_input/mask/out/task-18-annotation-18-by-2-tag-Airplane-0.png\n",
      "Processed mask saved as /workspace/data/aviodrome/plane/small_input/mask/out/task-19-annotation-19-by-2-tag-Airplane-0.png\n",
      "Processed mask saved as /workspace/data/aviodrome/plane/small_input/mask/out/task-20-annotation-20-by-2-tag-Airplane-0.png\n",
      "Processed mask saved as /workspace/data/aviodrome/plane/small_input/mask/out/task-21-annotation-21-by-2-tag-Airplane-0.png\n",
      "Processed mask saved as /workspace/data/aviodrome/plane/small_input/mask/out/task-22-annotation-22-by-2-tag-Airplane-0.png\n",
      "Processed mask saved as /workspace/data/aviodrome/plane/small_input/mask/out/task-23-annotation-23-by-2-tag-Airplane-0.png\n",
      "Processed mask saved as /workspace/data/aviodrome/plane/small_input/mask/out/task-24-annotation-24-by-2-tag-Airplane-0.png\n",
      "Processed mask saved as /workspace/data/aviodrome/plane/small_input/mask/out/task-25-annotation-25-by-2-tag-Airplane-0.png\n",
      "Processed mask saved as /workspace/data/aviodrome/plane/small_input/mask/out/task-26-annotation-26-by-2-tag-Airplane-0.png\n",
      "Processed mask saved as /workspace/data/aviodrome/plane/small_input/mask/out/task-27-annotation-27-by-2-tag-Airplane-0.png\n",
      "Processed mask saved as /workspace/data/aviodrome/plane/small_input/mask/out/task-28-annotation-28-by-2-tag-Airplane-0.png\n",
      "Processed mask saved as /workspace/data/aviodrome/plane/small_input/mask/out/task-29-annotation-29-by-2-tag-Airplane-0.png\n",
      "Processed mask saved as /workspace/data/aviodrome/plane/small_input/mask/out/task-30-annotation-30-by-2-tag-Airplane-0.png\n",
      "Processed mask saved as /workspace/data/aviodrome/plane/small_input/mask/out/task-31-annotation-31-by-2-tag-Airplane-0.png\n",
      "Processed mask saved as /workspace/data/aviodrome/plane/small_input/mask/out/task-32-annotation-32-by-2-tag-Airplane-0.png\n",
      "Processed mask saved as /workspace/data/aviodrome/plane/small_input/mask/out/task-33-annotation-33-by-2-tag-Airplane-0.png\n",
      "Processed mask saved as /workspace/data/aviodrome/plane/small_input/mask/out/task-34-annotation-34-by-2-tag-Airplane-0.png\n",
      "Processed mask saved as /workspace/data/aviodrome/plane/small_input/mask/out/task-35-annotation-35-by-2-tag-Airplane-0.png\n",
      "Processed mask saved as /workspace/data/aviodrome/plane/small_input/mask/out/task-36-annotation-36-by-2-tag-Airplane-0.png\n",
      "Processed mask saved as /workspace/data/aviodrome/plane/small_input/mask/out/task-37-annotation-37-by-2-tag-Airplane-0.png\n",
      "Processed mask saved as /workspace/data/aviodrome/plane/small_input/mask/out/task-38-annotation-38-by-2-tag-Airplane-0.png\n",
      "Processed mask saved as /workspace/data/aviodrome/plane/small_input/mask/out/task-39-annotation-39-by-2-tag-Airplane-0.png\n",
      "Processed mask saved as /workspace/data/aviodrome/plane/small_input/mask/out/task-40-annotation-40-by-2-tag-Airplane-0.png\n",
      "Processed mask saved as /workspace/data/aviodrome/plane/small_input/mask/out/task-41-annotation-41-by-2-tag-Airplane-0.png\n",
      "Processed mask saved as /workspace/data/aviodrome/plane/small_input/mask/out/task-42-annotation-42-by-2-tag-Airplane-0.png\n",
      "Processed mask saved as /workspace/data/aviodrome/plane/small_input/mask/out/task-43-annotation-43-by-2-tag-Airplane-0.png\n",
      "Processed mask saved as /workspace/data/aviodrome/plane/small_input/mask/out/task-44-annotation-44-by-2-tag-Airplane-0.png\n",
      "Processed mask saved as /workspace/data/aviodrome/plane/small_input/mask/out/task-45-annotation-45-by-2-tag-Airplane-0.png\n",
      "Processed mask saved as /workspace/data/aviodrome/plane/small_input/mask/out/task-46-annotation-46-by-2-tag-Airplane-0.png\n",
      "Processed mask saved as /workspace/data/aviodrome/plane/small_input/mask/out/task-47-annotation-47-by-2-tag-Airplane-0.png\n",
      "Processed mask saved as /workspace/data/aviodrome/plane/small_input/mask/out/task-48-annotation-48-by-2-tag-Airplane-0.png\n",
      "Processed mask saved as /workspace/data/aviodrome/plane/small_input/mask/out/task-49-annotation-49-by-2-tag-Airplane-0.png\n",
      "Processed mask saved as /workspace/data/aviodrome/plane/small_input/mask/out/task-50-annotation-50-by-2-tag-Airplane-0.png\n",
      "Processed mask saved as /workspace/data/aviodrome/plane/small_input/mask/out/task-51-annotation-51-by-2-tag-Airplane-0.png\n",
      "Processed mask saved as /workspace/data/aviodrome/plane/small_input/mask/out/task-52-annotation-52-by-2-tag-Airplane-0.png\n"
     ]
    }
   ],
   "source": [
    "def morph(image):\n",
    "    kernel = np.ones((5,5), np.uint8)\n",
    "    close_image = cv2.morphologyEx(image, cv2.MORPH_CLOSE, kernel,iterations = 2)\n",
    "    open_image = cv2.morphologyEx(close_image, cv2.MORPH_OPEN, kernel,iterations = 2)\n",
    "    dilation = cv2.dilate(open_image,np.ones((7,7), np.uint8),iterations = 1)\n",
    "    return dilation\n",
    "\n",
    "\n",
    "# Organize the files by task\n",
    "task_files = {}\n",
    "for file_path in glob(os.path.join(image_directory, '*.png')):\n",
    "    filename = os.path.basename(file_path)\n",
    "    task_number = filename.split('-')[1]  # Extracts the task number\n",
    "    task_files.setdefault(task_number, []).append(file_path)\n",
    "\n",
    "# Process each task\n",
    "for task_number, file_list in task_files.items():\n",
    "    # Sort the file list to ensure correct order\n",
    "    file_list.sort(key=lambda x: int(x.split('-')[-1].split('.')[0]))\n",
    "\n",
    "    # Initialize a variable for the combined mask\n",
    "    combined_mask = None\n",
    "\n",
    "    # Read and merge images\n",
    "    for file_path in file_list:\n",
    "        image = cv2.imread(file_path, cv2.IMREAD_GRAYSCALE)\n",
    "        if combined_mask is None:\n",
    "            combined_mask = image\n",
    "        else:\n",
    "            combined_mask = cv2.bitwise_or(combined_mask, image)\n",
    "\n",
    "    processed_mask = morph(combined_mask)\n",
    "\n",
    "    # Save or display the result\n",
    "    output_path = os.path.join(combine_directory, f'task-{task_number}-annotation-{task_number}-by-2-tag-Airplane-0.png')\n",
    "    cv2.imwrite(output_path, processed_mask)\n",
    "    print(f'Processed mask saved as {output_path}')"
   ]
  }
 ],
 "metadata": {
  "kernelspec": {
   "display_name": "s-3dgs",
   "language": "python",
   "name": "python3"
  },
  "language_info": {
   "codemirror_mode": {
    "name": "ipython",
    "version": 3
   },
   "file_extension": ".py",
   "mimetype": "text/x-python",
   "name": "python",
   "nbconvert_exporter": "python",
   "pygments_lexer": "ipython3",
   "version": "3.8.20"
  }
 },
 "nbformat": 4,
 "nbformat_minor": 2
}
